{
 "cells": [
  {
   "cell_type": "markdown",
   "metadata": {},
   "source": [
    "# Worksheet set 1\n"
   ]
  },
  {
   "cell_type": "markdown",
   "metadata": {},
   "source": [
    "11. Write a python program to find the factorial of a number.\n"
   ]
  },
  {
   "cell_type": "code",
   "execution_count": 3,
   "metadata": {},
   "outputs": [
    {
     "name": "stdout",
     "output_type": "stream",
     "text": [
      "Enter a number:5\n",
      "The factorial of 5 is 1\n",
      "The factorial of 5 is 2\n",
      "The factorial of 5 is 6\n",
      "The factorial of 5 is 24\n",
      "The factorial of 5 is 120\n"
     ]
    }
   ],
   "source": [
    "num= int(input(\"Enter a number:\"))\n",
    "factorial = 1   \n",
    "if num<0:\n",
    "    print(\"Factorial does not exist for negative numbers\")\n",
    "elif num==0:\n",
    "    print(\"The factorial of 0 is 1\")\n",
    "else:\n",
    "    for i in range(1,num + 1):\n",
    "        factorial= factorial*i\n",
    "        print(\"The factorial of\",num,\"is\",factorial)"
   ]
  },
  {
   "cell_type": "markdown",
   "metadata": {},
   "source": [
    "12. Write a python program to find whether a number is prime or composite."
   ]
  },
  {
   "cell_type": "code",
   "execution_count": 9,
   "metadata": {},
   "outputs": [
    {
     "name": "stdout",
     "output_type": "stream",
     "text": [
      "Enter any number:5\n",
      "5 is a prime number\n",
      "5 is a prime number\n",
      "5 is a prime number\n"
     ]
    }
   ],
   "source": [
    "number=int(input(\"Enter any number:\"))\n",
    "if number > 1:\n",
    "    for i in range (2, number):\n",
    "        if (number % i)==0:\n",
    "            print(number,\"is not a prime number\")\n",
    "            break\n",
    "        else:\n",
    "            print(number,\"is a prime number\")\n",
    "elif num == 0 or 1:\n",
    "    print (number, \"is a neither prime nor composite number\")\n",
    "else:\n",
    "    print(number,\"is not a prime number it is a composite number\")"
   ]
  },
  {
   "cell_type": "markdown",
   "metadata": {},
   "source": [
    "13. Write a python program to check whether a given string is palindrome or not."
   ]
  },
  {
   "cell_type": "code",
   "execution_count": 3,
   "metadata": {},
   "outputs": [
    {
     "name": "stdout",
     "output_type": "stream",
     "text": [
      "The string is a palindrome.\n"
     ]
    }
   ],
   "source": [
    "my_str = 'aibohphobia'\n",
    "my_str = my_str.casefold()\n",
    "rev_str = reversed(my_str)\n",
    "if list(my_str)==list(rev_str):\n",
    "    print(\"The string is a palindrome.\")\n",
    "else:\n",
    "    print(\"The string is not a palindrome.\")"
   ]
  },
  {
   "cell_type": "markdown",
   "metadata": {},
   "source": [
    "14. Write a Python program to get the third side of right-angled triangle from two given sides."
   ]
  },
  {
   "cell_type": "code",
   "execution_count": 4,
   "metadata": {},
   "outputs": [
    {
     "name": "stdout",
     "output_type": "stream",
     "text": [
      "Input lengths of shorter triangle sides:\n",
      "a: 2\n",
      "b: 5\n",
      "The length of the hypotenuse is: 5.385164807134504\n"
     ]
    }
   ],
   "source": [
    "from math import sqrt\n",
    "print (\"Input lengths of shorter triangle sides:\")\n",
    "a=float(input(\"a: \"))\n",
    "b=float(input(\"b: \"))\n",
    "c= sqrt(a**2+b**2)\n",
    "print(\"The length of the hypotenuse is:\",c)"
   ]
  },
  {
   "cell_type": "markdown",
   "metadata": {},
   "source": [
    "15. Write a python program to print the frequency of each of the characters present in a given string"
   ]
  },
  {
   "cell_type": "code",
   "execution_count": 6,
   "metadata": {},
   "outputs": [
    {
     "name": "stdout",
     "output_type": "stream",
     "text": [
      "per char frequency in 'Data Science' is :\n",
      " {'D': 1, 'a': 2, 't': 1, ' ': 1, 'S': 1, 'c': 2, 'i': 1, 'e': 2, 'n': 1}\n"
     ]
    }
   ],
   "source": [
    "input_string = \"Data Science\"\n",
    "frequencies={}\n",
    "\n",
    "for char in input_string:\n",
    "    if char in frequencies:\n",
    "        frequencies[char]+=1\n",
    "    else:\n",
    "            frequencies[char]=1\n",
    "print(\"per char frequency in '{}' is :\\n {}\".format(input_string, str(frequencies)))"
   ]
  },
  {
   "cell_type": "code",
   "execution_count": null,
   "metadata": {},
   "outputs": [],
   "source": []
  }
 ],
 "metadata": {
  "kernelspec": {
   "display_name": "Python 3",
   "language": "python",
   "name": "python3"
  },
  "language_info": {
   "codemirror_mode": {
    "name": "ipython",
    "version": 3
   },
   "file_extension": ".py",
   "mimetype": "text/x-python",
   "name": "python",
   "nbconvert_exporter": "python",
   "pygments_lexer": "ipython3",
   "version": "3.8.5"
  }
 },
 "nbformat": 4,
 "nbformat_minor": 4
}
